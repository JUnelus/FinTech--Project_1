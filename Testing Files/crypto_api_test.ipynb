{
 "cells": [
  {
   "cell_type": "code",
   "execution_count": 1,
   "id": "874fc979",
   "metadata": {},
   "outputs": [
    {
     "name": "stdout",
     "output_type": "stream",
     "text": [
      "Requirement already satisfied: cryptowatch-sdk in /Users/derrickclaye/opt/anaconda3/lib/python3.8/site-packages (0.0.14)\n",
      "Requirement already satisfied: urllib3>=1.25.7 in /Users/derrickclaye/opt/anaconda3/lib/python3.8/site-packages (from cryptowatch-sdk) (1.26.4)\n",
      "Requirement already satisfied: protobuf>=3.11.3 in /Users/derrickclaye/opt/anaconda3/lib/python3.8/site-packages (from cryptowatch-sdk) (3.16.0)\n",
      "Requirement already satisfied: PyYAML>=5.1.2 in /Users/derrickclaye/opt/anaconda3/lib/python3.8/site-packages (from cryptowatch-sdk) (5.4.1)\n",
      "Requirement already satisfied: marshmallow>=3.2.2 in /Users/derrickclaye/opt/anaconda3/lib/python3.8/site-packages (from cryptowatch-sdk) (3.11.1)\n",
      "Requirement already satisfied: requests>=2.22.0 in /Users/derrickclaye/opt/anaconda3/lib/python3.8/site-packages (from cryptowatch-sdk) (2.25.1)\n",
      "Requirement already satisfied: websocket-client>=0.56.0 in /Users/derrickclaye/opt/anaconda3/lib/python3.8/site-packages (from cryptowatch-sdk) (0.58.0)\n",
      "Requirement already satisfied: six>=1.9 in /Users/derrickclaye/opt/anaconda3/lib/python3.8/site-packages (from protobuf>=3.11.3->cryptowatch-sdk) (1.15.0)\n",
      "Requirement already satisfied: chardet<5,>=3.0.2 in /Users/derrickclaye/opt/anaconda3/lib/python3.8/site-packages (from requests>=2.22.0->cryptowatch-sdk) (4.0.0)\n",
      "Requirement already satisfied: idna<3,>=2.5 in /Users/derrickclaye/opt/anaconda3/lib/python3.8/site-packages (from requests>=2.22.0->cryptowatch-sdk) (2.10)\n",
      "Requirement already satisfied: certifi>=2017.4.17 in /Users/derrickclaye/opt/anaconda3/lib/python3.8/site-packages (from requests>=2.22.0->cryptowatch-sdk) (2020.12.5)\n"
     ]
    }
   ],
   "source": [
    "!pip install cryptowatch-sdk"
   ]
  },
  {
   "cell_type": "code",
   "execution_count": 2,
   "id": "12a05829",
   "metadata": {},
   "outputs": [],
   "source": [
    "import cryptowatch as cw\n",
    "from datetime import datetime, timedelta"
   ]
  },
  {
   "cell_type": "code",
   "execution_count": 3,
   "id": "f70f5ce3",
   "metadata": {},
   "outputs": [],
   "source": [
    "kraken = cw.markets.list(\"kraken\")"
   ]
  },
  {
   "cell_type": "code",
   "execution_count": 4,
   "id": "efdcaa77",
   "metadata": {},
   "outputs": [
    {
     "name": "stdout",
     "output_type": "stream",
     "text": [
      "360.05\n"
     ]
    }
   ],
   "source": [
    "for market in kraken.markets:\n",
    "    if market.pair == 'ltcusd':\n",
    "        ticker = \"{}:{}\".format(market.exchange, market.pair).upper()\n",
    "        candles = cw.markets.get(ticker, ohlc=True, periods=[\"1w\"])\n",
    "        close_ts, wkly_open, wkly_close = (\n",
    "        candles.of_1w[-1][0],\n",
    "        candles.of_1w[-1][1],\n",
    "        candles.of_1w[-1][4],\n",
    "        )\n",
    "        print(wkly_close)"
   ]
  },
  {
   "cell_type": "code",
   "execution_count": null,
   "id": "6a8f0442",
   "metadata": {},
   "outputs": [],
   "source": []
  }
 ],
 "metadata": {
  "kernelspec": {
   "display_name": "Python 3",
   "language": "python",
   "name": "python3"
  },
  "language_info": {
   "codemirror_mode": {
    "name": "ipython",
    "version": 3
   },
   "file_extension": ".py",
   "mimetype": "text/x-python",
   "name": "python",
   "nbconvert_exporter": "python",
   "pygments_lexer": "ipython3",
   "version": "3.7.9"
  }
 },
 "nbformat": 4,
 "nbformat_minor": 5
}
