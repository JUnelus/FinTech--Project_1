{
 "cells": [
  {
   "cell_type": "code",
   "execution_count": 3,
   "metadata": {},
   "outputs": [
    {
     "ename": "ModuleNotFoundError",
     "evalue": "No module named 'mc_and_lending_summary'",
     "output_type": "error",
     "traceback": [
      "\u001b[1;31m---------------------------------------------------------------------------\u001b[0m",
      "\u001b[1;31mModuleNotFoundError\u001b[0m                       Traceback (most recent call last)",
      "\u001b[1;32m<ipython-input-3-00b3e4c9dcd2>\u001b[0m in \u001b[0;36m<module>\u001b[1;34m\u001b[0m\n\u001b[1;32m----> 1\u001b[1;33m \u001b[1;32mfrom\u001b[0m \u001b[0mmc_and_lending_summary\u001b[0m \u001b[1;32mimport\u001b[0m \u001b[0mmasterAnalysis\u001b[0m\u001b[1;33m\u001b[0m\u001b[1;33m\u001b[0m\u001b[0m\n\u001b[0m",
      "\u001b[1;31mModuleNotFoundError\u001b[0m: No module named 'mc_and_lending_summary'"
     ]
    }
   ],
   "source": [
    "from mc_and_lending_summary import masterAnalysis"
   ]
  },
  {
   "cell_type": "code",
   "execution_count": null,
   "metadata": {},
   "outputs": [],
   "source": [
    "def mc_and_lending_summary(capital, duration):\n",
    "    \n",
    "    low_risk_investment_amount = capital * .8\n",
    "    low_risk_lending_amount = capital * .2\n",
    "    \n",
    "    med_risk_investment_amount = capital * .6\n",
    "    med_risk_lending_amount = capital * .4\n",
    "    \n",
    "    high_risk_investment_amount = capital * .5\n",
    "    high_risk_lending_amount = capital * .5\n",
    "    \n",
    "    low_risk_ci_lower = round(low_risk_table[8]*low_risk_investment_amount,2)\n",
    "    low_risk_ci_upper = round(low_risk_table[9]*low_risk_investment_amount,2)\n",
    "    med_risk_ci_lower = round(med_risk_table[8]*med_risk_investment_amount,2)\n",
    "    med_risk_ci_upper = round(med_risk_table[9]*med_risk_investment_amount,2)\n",
    "    high_risk_ci_lower = round(high_risk_table[8]*high_risk_investment_amount,2)\n",
    "    high_risk_ci_upper = round(high_risk_table[9]*high_risk_investment_amount,2)\n",
    "    \n",
    "    low_risk_lending_profit = return_on_lending(low_risk_lending_amount, .04, duration)\n",
    "    med_risk_lending_profit = return_on_lending(med_risk_lending_amount, .04, duration)\n",
    "    high_risk_lending_profit = return_on_lending(high_risk_lending_amount, .04, duration)\n",
    "   \n",
    "\n",
    "    # Print results\n",
    "    print('\\033[1m'+'\\033[91m'+\"FOR LOW RISK INVESTMENT\"+'\\033[0m')\n",
    "    print(\n",
    "        f\"There is a 95% chance that an initial investment of ${low_risk_investment_amount} in the low risk portfolio\"\n",
    "        f\" over the next 5 years will end within in the range of\"\n",
    "        f\" ${low_risk_ci_lower} and ${low_risk_ci_upper}. \"\n",
    "        f\"Additionally, lending ${low_risk_lending_amount} would yield ${low_risk_lending_profit} in profit.\" \n",
    "    )\n",
    "    print(\"----------------------------------------------------------\")\n",
    "    print('\\033[1m'+'\\033[94m'+\"FOR MEDIUM RISK INVESTMENT\"+'\\033[0m')\n",
    "    print(\n",
    "          f\"There is a 95% chance that an initial investment of ${med_risk_investment_amount} in the medium risk portfolio\"\n",
    "          f\" over the next 5 years will end within in the range of\"\n",
    "          f\" ${med_risk_ci_lower} and ${med_risk_ci_upper}. \"\n",
    "          f\"Additionally, lending ${med_risk_lending_amount} would yield ${med_risk_lending_profit} in profit.\"\n",
    "         )\n",
    "    print(\"----------------------------------------------------------\")\n",
    "    print('\\033[1m'+'\\033[92m'+\"FOR HIGH RISK INVESTMENT\"+'\\033[0m')\n",
    "    print(\n",
    "          f\"There is a 95% chance that an initial investment of ${high_risk_investment_amount} in the high risk portfolio\"\n",
    "          f\" over the next 5 years will end within in the range of\"\n",
    "          f\" ${high_risk_ci_lower} and ${high_risk_ci_upper}. \"\n",
    "          f\"Additionally, lending ${high_risk_lending_amount} would yield ${high_risk_lending_profit} in profit.\" \n",
    "         )"
   ]
  }
 ],
 "metadata": {
  "kernelspec": {
   "display_name": "Python [conda env:pyvizenv] *",
   "language": "python",
   "name": "conda-env-pyvizenv-py"
  },
  "language_info": {
   "codemirror_mode": {
    "name": "ipython",
    "version": 3
   },
   "file_extension": ".py",
   "mimetype": "text/x-python",
   "name": "python",
   "nbconvert_exporter": "python",
   "pygments_lexer": "ipython3",
   "version": "3.7.9"
  }
 },
 "nbformat": 4,
 "nbformat_minor": 4
}
